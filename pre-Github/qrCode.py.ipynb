{
 "cells": [
  {
   "cell_type": "code",
   "execution_count": 1,
   "metadata": {},
   "outputs": [],
   "source": [
    "# Load library\n",
    "import pyqrcode"
   ]
  },
  {
   "cell_type": "code",
   "execution_count": 2,
   "metadata": {},
   "outputs": [],
   "source": [
    "# Creating and saving the QR code for a URL\n",
    "url = pyqrcode.create('https://sites.google.com/a/itesm.mx/juresti')\n",
    "url.svg('./qrURL.svg', scale=15, module_color=\"#7D007D\")\n",
    "url.png(\n",
    "    './qrURL.png',\n",
    "    scale=20,\n",
    "    module_color=(0, 0, 0, 0),\n",
    "    background=(0xff, 0xff, 0xff)\n",
    ")"
   ]
  },
  {
   "cell_type": "code",
   "execution_count": 3,
   "metadata": {},
   "outputs": [],
   "source": [
    "# The error parameter sets the error correction level of the code. Each level\n",
    "#   has an associated name given by a letter: L, M, Q, or H; each level can\n",
    "#   correct up to 7, 15, 25, or 30 percent of the data respectively.\n",
    "# The version parameter specifies the size and data capacity of the code.\n",
    "#   Versions are any integer between 1 and 40, where version 1 is the smallest\n",
    "#   QR code, and version 40 is the largest.\n",
    "# Mode parameter sets how the contents will be encoded. As mentioned above,\n",
    "#   three of the five possible encodings have been written.\n",
    "url = pyqrcode.create(\n",
    "    'https://sites.google.com/a/itesm.mx/juresti',\n",
    "    error=\"H\",\n",
    "    version=10\n",
    ")\n",
    "url.png(\n",
    "    './qrURLH.png',\n",
    "    scale=20,\n",
    "    module_color=(0, 0, 0, 0),\n",
    "    background=(0xff, 0xff, 0xff)\n",
    ")"
   ]
  }
 ],
 "metadata": {
  "kernelspec": {
   "display_name": "Python 3",
   "language": "python",
   "name": "python3"
  },
  "language_info": {
   "codemirror_mode": {
    "name": "ipython",
    "version": 3
   },
   "file_extension": ".py",
   "mimetype": "text/x-python",
   "name": "python",
   "nbconvert_exporter": "python",
   "pygments_lexer": "ipython3",
   "version": "3.7.3"
  }
 },
 "nbformat": 4,
 "nbformat_minor": 2
}
