{
 "cells": [
  {
   "cell_type": "code",
   "execution_count": 1,
   "metadata": {},
   "outputs": [],
   "source": [
    "# Import libraries\n",
    "from twitter import *\n",
    "import twitter\n",
    "import json\n",
    "import yweather\n",
    "import nltk\n",
    "from collections import Counter\n"
   ]
  },
  {
   "cell_type": "markdown",
   "metadata": {},
   "source": [
    "Loading credentials"
   ]
  },
  {
   "cell_type": "code",
   "execution_count": null,
   "metadata": {},
   "outputs": [],
   "source": [
    "from twitterCredentials import *"
   ]
  },
  {
   "cell_type": "markdown",
   "metadata": {},
   "source": [
    "Crear objeto de entrada y autorizarse"
   ]
  },
  {
   "cell_type": "code",
   "execution_count": null,
   "metadata": {},
   "outputs": [],
   "source": [
    "auth = twitter.oauth.OAuth(\n",
    "    access_token, access_token_secret,\n",
    "    consumer_key, consumer_secret\n",
    ")\n",
    "\n",
    "# Initializing an API session\n",
    "twitter_api = twitter.Twitter(auth=auth)\n",
    "print(twitter_api)\n"
   ]
  },
  {
   "cell_type": "markdown",
   "metadata": {},
   "source": [
    "Obtener trends de Twitter y empezar a ver la información a nivel mundial"
   ]
  },
  {
   "cell_type": "markdown",
   "metadata": {},
   "source": [
    "El WOE_ID es un código para saber de qué parte del mundo viene el mensaje. Ver http://woeid.rosselliot.co.nz/lookup/ciudad%20de%20mexico"
   ]
  },
  {
   "cell_type": "code",
   "execution_count": null,
   "metadata": {},
   "outputs": [],
   "source": [
    "###############################################################################\n",
    "# Getting the trends information from locations in the world\n",
    "WORLD_WOE_ID = 1\n",
    "US_WOE_ID = 23424977\n",
    "\n",
    "world_trends = twitter_api.trends.place(_id=WORLD_WOE_ID)\n",
    "us_trends = twitter_api.trends.place(_id=US_WOE_ID)\n",
    "\n",
    "print(world_trends)\n",
    "print(json.dumps(world_trends, indent=1))\n",
    "\n",
    "# Getting trends information with auto-fetch of WOEID\n",
    "client = yweather.Client()\n",
    "id = client.fetch_woeid('Mexico')\n",
    "MX_WOE_ID = int(id)\n",
    "mx_trends = twitter_api.trends.place(_id=MX_WOE_ID)\n",
    "mxTrends = [trend['name'] for trend in mx_trends[0][\"trends\"]]\n",
    "print(mxTrends)\n"
   ]
  }
 ],
 "metadata": {
  "kernelspec": {
   "display_name": "Python 3",
   "language": "python",
   "name": "python3"
  },
  "language_info": {
   "codemirror_mode": {
    "name": "ipython",
    "version": 3
   },
   "file_extension": ".py",
   "mimetype": "text/x-python",
   "name": "python",
   "nbconvert_exporter": "python",
   "pygments_lexer": "ipython3",
   "version": "3.7.3"
  }
 },
 "nbformat": 4,
 "nbformat_minor": 2
}
